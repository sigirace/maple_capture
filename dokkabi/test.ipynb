{
 "cells": [
  {
   "cell_type": "code",
   "execution_count": 49,
   "metadata": {},
   "outputs": [],
   "source": [
    "import cv2\n",
    "import numpy as np\n",
    "\n",
    "def find_template_count(template_path, target_path, threshold=0.8):\n",
    "    # Load the template and target images\n",
    "    template = cv2.imread(template_path, cv2.IMREAD_COLOR)\n",
    "    target = cv2.imread(target_path, cv2.IMREAD_COLOR)\n",
    "    \n",
    "    # Convert images to grayscale\n",
    "    template_gray = cv2.cvtColor(template, cv2.COLOR_BGR2GRAY)\n",
    "    target_gray = cv2.cvtColor(target, cv2.COLOR_BGR2GRAY)\n",
    "    \n",
    "    # Get dimensions of the template image\n",
    "    w, h = template_gray.shape[::-1]\n",
    "    \n",
    "    # Perform template matching\n",
    "    result = cv2.matchTemplate(target_gray, template_gray, cv2.TM_CCOEFF_NORMED)\n",
    "    locations = np.where(result >= threshold)\n",
    "    \n",
    "    # Initialize coordinates list\n",
    "    coordinates = []\n",
    "    \n",
    "    # Store all coordinates where match is found\n",
    "    for pt in zip(*locations[::-1]):\n",
    "        coordinates.append((pt[0] + w // 2, pt[1] + h // 2))  # Get the center of the match\n",
    "    \n",
    "    # Remove overlapping matches\n",
    "    coordinates = remove_overlapping_matches(coordinates, w, h)\n",
    "\n",
    "    # Return the count of matches\n",
    "    return len(coordinates)\n",
    "\n"
   ]
  },
  {
   "cell_type": "code",
   "execution_count": 68,
   "metadata": {},
   "outputs": [
    {
     "name": "stdout",
     "output_type": "stream",
     "text": [
      "Number of red users found: 1\n"
     ]
    }
   ],
   "source": [
    "# Paths to the template and target images\n",
    "template_path =  \"C:\\\\macro\\\\images\\\\reduser.png\"\n",
    "target_path =  \"C:\\\\macro\\\\images\\\\red_result.png\"\n",
    "\n",
    "# Find the number of red user instances\n",
    "red_user_count = find_template_count(template_path, target_path)\n",
    "\n",
    "print(\"Number of red users found:\", red_user_count)"
   ]
  },
  {
   "cell_type": "code",
   "execution_count": 52,
   "metadata": {},
   "outputs": [
    {
     "name": "stdout",
     "output_type": "stream",
     "text": [
      "Number of red users found: 1\n"
     ]
    }
   ],
   "source": [
    "# Paths to the template and target images\n",
    "template_path =  \"C:\\\\macro\\\\images\\\\user.png\"\n",
    "target_path =  \"C:\\\\macro\\\\images\\\\yellow_result.png\"\n",
    "\n",
    "# Find the number of red user instances\n",
    "red_user_count = find_template_count(template_path, target_path)\n",
    "\n",
    "print(\"Number of red users found:\", red_user_count)"
   ]
  },
  {
   "cell_type": "code",
   "execution_count": 45,
   "metadata": {},
   "outputs": [],
   "source": [
    "# Load the template and target images\n",
    "template = cv2.imread(template_path, cv2.IMREAD_COLOR)\n",
    "target = cv2.imread(target_path, cv2.IMREAD_COLOR)\n",
    "\n",
    "# Convert images to grayscale\n",
    "template_gray = cv2.cvtColor(template, cv2.COLOR_BGR2GRAY)\n",
    "target_gray = cv2.cvtColor(target, cv2.COLOR_BGR2GRAY)\n",
    "\n",
    "# Get dimensions of the template image\n",
    "w, h = template_gray.shape[::-1]\n",
    "\n",
    "# Perform template matching\n",
    "result = cv2.matchTemplate(target_gray, template_gray, cv2.TM_CCOEFF_NORMED)\n"
   ]
  },
  {
   "cell_type": "code",
   "execution_count": 46,
   "metadata": {},
   "outputs": [
    {
     "data": {
      "text/plain": [
       "0.99999976"
      ]
     },
     "execution_count": 46,
     "metadata": {},
     "output_type": "execute_result"
    }
   ],
   "source": [
    "np.max(result)"
   ]
  },
  {
   "cell_type": "code",
   "execution_count": 53,
   "metadata": {},
   "outputs": [
    {
     "name": "stdout",
     "output_type": "stream",
     "text": [
      "Coordinates of yellow users found: [(226, 80)]\n"
     ]
    }
   ],
   "source": [
    "import cv2\n",
    "import numpy as np\n",
    "\n",
    "def find_template_coordinates(template_path, target_path, threshold=0.8):\n",
    "    # Load the template and target images\n",
    "    template = cv2.imread(template_path, cv2.IMREAD_COLOR)\n",
    "    target = cv2.imread(target_path, cv2.IMREAD_COLOR)\n",
    "    \n",
    "    # Convert images to grayscale\n",
    "    template_gray = cv2.cvtColor(template, cv2.COLOR_BGR2GRAY)\n",
    "    target_gray = cv2.cvtColor(target, cv2.COLOR_BGR2GRAY)\n",
    "    \n",
    "    # Get dimensions of the template image\n",
    "    w, h = template_gray.shape[::-1]\n",
    "    \n",
    "    # Perform template matching\n",
    "    result = cv2.matchTemplate(target_gray, template_gray, cv2.TM_CCOEFF_NORMED)\n",
    "    locations = np.where(result >= threshold)\n",
    "    \n",
    "    # Initialize coordinates list\n",
    "    coordinates = []\n",
    "    \n",
    "    # Store all coordinates where match is found\n",
    "    for pt in zip(*locations[::-1]):\n",
    "        coordinates.append((pt[0] + w // 2, pt[1] + h // 2))  # Get the center of the match\n",
    "    \n",
    "    # Remove overlapping matches\n",
    "    coordinates = remove_overlapping_matches(coordinates, w, h)\n",
    "\n",
    "    # Return the coordinates of matches\n",
    "    return coordinates\n",
    "\n",
    "def remove_overlapping_matches(coordinates, w, h):\n",
    "    filtered_coords = []\n",
    "    for coord in coordinates:\n",
    "        if not any([np.linalg.norm(np.array(coord) - np.array(existing)) < min(w, h) // 2 for existing in filtered_coords]):\n",
    "            filtered_coords.append(coord)\n",
    "    return filtered_coords\n",
    "\n",
    "# Paths to the template and target images\n",
    "template_path =  \"C:\\\\macro\\\\images\\\\user.png\"\n",
    "target_path =  \"C:\\\\macro\\\\images\\\\yellow_result.png\"\n",
    "\n",
    "# Find the coordinates of yellow user instances\n",
    "yellow_user_coordinates = find_template_coordinates(template_path, target_path)\n",
    "\n",
    "print(\"Coordinates of yellow users found:\", yellow_user_coordinates)\n"
   ]
  },
  {
   "cell_type": "code",
   "execution_count": null,
   "metadata": {},
   "outputs": [],
   "source": []
  },
  {
   "cell_type": "code",
   "execution_count": 82,
   "metadata": {},
   "outputs": [],
   "source": [
    "import pyautogui\n",
    "import cv2\n",
    "import os\n",
    "import numpy as np\n",
    "import common as cm\n",
    "\n",
    "# Define the color ranges for yellow and red dots\n",
    "yellow_lower = np.array([20, 100, 100], np.uint8)\n",
    "yellow_upper = np.array([30, 255, 255], np.uint8)\n",
    "\n",
    "red_lower = np.array([0, 100, 100], np.uint8)\n",
    "red_upper = np.array([10, 255, 255], np.uint8)\n",
    "base_path = \"C:\\\\macro\\\\images\"\n",
    "\n",
    "def make_masked_map():\n",
    "    img_path =  \"C:\\\\macro\\\\images\\\\screenshot.png\"\n",
    "    screen_image = cv2.imread(img_path, cv2.IMREAD_COLOR)\n",
    "    hsv_screenshot = cv2.cvtColor(screen_image, cv2.COLOR_BGR2HSV)\n",
    "\n",
    "    # Find the yellow dot\n",
    "    yellow_mask = cv2.inRange(hsv_screenshot, yellow_lower, yellow_upper)\n",
    "\n",
    "    # Find the red dots\n",
    "    red_mask = cv2.inRange(hsv_screenshot, red_lower, red_upper)\n",
    "\n",
    "    # Save the results for debugging\n",
    "    yellow_result = cv2.bitwise_and(screen_image, screen_image, mask=yellow_mask)\n",
    "    red_result = cv2.bitwise_and(screen_image, screen_image, mask=red_mask)\n",
    "    cv2.imwrite(os.path.join(base_path, 'yellow_result.png'), yellow_result)\n",
    "    cv2.imwrite(os.path.join(base_path, 'red_result.png'), red_result)\n",
    "    print(\"마스크 캡쳐 완료\")\n",
    "\n",
    "    return yellow_result, red_result\n",
    "\n",
    "def remove_overlapping_matches(coordinates, w, h):\n",
    "    filtered_coords = []\n",
    "    for coord in coordinates:\n",
    "        if not any([np.linalg.norm(np.array(coord) - np.array(existing)) < min(w, h) // 2 for existing in filtered_coords]):\n",
    "            filtered_coords.append(coord)\n",
    "    return filtered_coords\n",
    "\n",
    "\n",
    "def find_match(template, target_name,threshold=0.8):\n",
    "    # Load the template and target images\n",
    "    \n",
    "    target_path = os.path.join(base_path, \"{}.png\".format(target_name))\n",
    "    target = cv2.imread(target_path, cv2.IMREAD_COLOR)\n",
    "    \n",
    "    # Convert images to grayscale\n",
    "    template_gray = cv2.cvtColor(template, cv2.COLOR_BGR2GRAY)\n",
    "    target_gray = cv2.cvtColor(target, cv2.COLOR_BGR2GRAY)\n",
    "    \n",
    "    # Get dimensions of the template image\n",
    "    w, h = template_gray.shape[::-1]\n",
    "    \n",
    "    # Perform template matching\n",
    "    result = cv2.matchTemplate(target_gray, template_gray, cv2.TM_CCOEFF_NORMED)\n",
    "    locations = np.where(result >= threshold)\n",
    "    \n",
    "    # Initialize coordinates list\n",
    "    coordinates = []\n",
    "    \n",
    "    # Store all coordinates where match is found\n",
    "    for pt in zip(*locations[::-1]):\n",
    "        coordinates.append((pt[0] + w // 2, pt[1] + h // 2))  # Get the center of the match\n",
    "    \n",
    "    # Remove overlapping matches\n",
    "    coordinates = remove_overlapping_matches(coordinates, w, h)\n",
    "\n",
    "    # Return the count of matches\n",
    "    return len(coordinates), coordinates\n",
    "\n",
    "def find_user():\n",
    "    yellow_result, red_result = make_masked_map()\n",
    "    red_user_cnt, _ = find_match(red_result, 'reduser')\n",
    "    _, user = find_match(yellow_result, 'user')\n",
    "\n",
    "    print(\"타 유저 수: \", red_user_cnt)\n",
    "    print(\"유저 위치: \", user)"
   ]
  },
  {
   "cell_type": "code",
   "execution_count": 83,
   "metadata": {},
   "outputs": [
    {
     "name": "stdout",
     "output_type": "stream",
     "text": [
      "마스크 캡쳐 완료\n"
     ]
    }
   ],
   "source": [
    "yellow_result, red_result = make_masked_map()"
   ]
  },
  {
   "cell_type": "code",
   "execution_count": 84,
   "metadata": {},
   "outputs": [
    {
     "name": "stdout",
     "output_type": "stream",
     "text": [
      "마스크 캡쳐 완료\n",
      "타 유저 수:  1\n",
      "유저 위치:  [(383, 131)]\n"
     ]
    }
   ],
   "source": [
    "find_user()"
   ]
  },
  {
   "cell_type": "code",
   "execution_count": null,
   "metadata": {},
   "outputs": [],
   "source": []
  }
 ],
 "metadata": {
  "kernelspec": {
   "display_name": "macro",
   "language": "python",
   "name": "python3"
  },
  "language_info": {
   "codemirror_mode": {
    "name": "ipython",
    "version": 3
   },
   "file_extension": ".py",
   "mimetype": "text/x-python",
   "name": "python",
   "nbconvert_exporter": "python",
   "pygments_lexer": "ipython3",
   "version": "3.8.19"
  }
 },
 "nbformat": 4,
 "nbformat_minor": 2
}
